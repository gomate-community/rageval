{
 "cells": [
  {
   "cell_type": "markdown",
   "id": "f4f0630a",
   "metadata": {},
   "source": [
    "## 0.Prepare the environment"
   ]
  },
  {
   "cell_type": "code",
   "execution_count": 1,
   "id": "45bafe86-c21c-42cf-9f3e-a3d2bc11f42e",
   "metadata": {
    "scrolled": true,
    "tags": []
   },
   "outputs": [
    {
     "name": "stdout",
     "output_type": "stream",
     "text": [
      "Looking in indexes: https://pypi.tuna.tsinghua.edu.cn/simple\n",
      "Collecting openpyxl (from -r requirments.txt (line 1))\n",
      "  Downloading https://pypi.tuna.tsinghua.edu.cn/packages/c0/da/977ded879c29cbd04de313843e76868e6e13408a94ed6b987245dc7c8506/openpyxl-3.1.5-py2.py3-none-any.whl (250 kB)\n",
      "\u001b[2K     \u001b[90m━━━━━━━━━━━━━━━━━━━━━━━━━━━━━━━━━━━━━━━\u001b[0m \u001b[32m250.9/250.9 kB\u001b[0m \u001b[31m2.1 MB/s\u001b[0m eta \u001b[36m0:00:00\u001b[0m00:01\u001b[0m00:01\u001b[0m\n",
      "\u001b[?25hRequirement already satisfied: pandas in /opt/conda/lib/python3.10/site-packages (from -r requirments.txt (line 2)) (2.1.3)\n",
      "Requirement already satisfied: transformers in /opt/conda/lib/python3.10/site-packages (from -r requirments.txt (line 3)) (4.42.4)\n",
      "Requirement already satisfied: matplotlib in /opt/conda/lib/python3.10/site-packages (from -r requirments.txt (line 4)) (3.9.1)\n",
      "Requirement already satisfied: datasets in /opt/conda/lib/python3.10/site-packages (from -r requirments.txt (line 5)) (2.19.1)\n",
      "Collecting ragchecker (from -r requirments.txt (line 6))\n",
      "  Downloading https://pypi.tuna.tsinghua.edu.cn/packages/2e/57/7ca179a41059ea8ea70b4592834de8493102b65667a67ab9cb654eb4056e/ragchecker-0.1.6-py3-none-any.whl (14 kB)\n",
      "Requirement already satisfied: vllm in /opt/conda/lib/python3.10/site-packages (from -r requirments.txt (line 7)) (0.3.3)\n",
      "Requirement already satisfied: requests in /opt/conda/lib/python3.10/site-packages (from -r requirments.txt (line 8)) (2.31.0)\n",
      "Collecting et-xmlfile (from openpyxl->-r requirments.txt (line 1))\n",
      "  Downloading https://pypi.tuna.tsinghua.edu.cn/packages/96/c2/3dd434b0108730014f1b96fd286040dc3bcb70066346f7e01ec2ac95865f/et_xmlfile-1.1.0-py3-none-any.whl (4.7 kB)\n",
      "Requirement already satisfied: numpy<2,>=1.22.4 in /opt/conda/lib/python3.10/site-packages (from pandas->-r requirments.txt (line 2)) (1.25.2)\n",
      "Requirement already satisfied: python-dateutil>=2.8.2 in /opt/conda/lib/python3.10/site-packages (from pandas->-r requirments.txt (line 2)) (2.8.2)\n",
      "Requirement already satisfied: pytz>=2020.1 in /opt/conda/lib/python3.10/site-packages (from pandas->-r requirments.txt (line 2)) (2023.3.post1)\n",
      "Requirement already satisfied: tzdata>=2022.1 in /opt/conda/lib/python3.10/site-packages (from pandas->-r requirments.txt (line 2)) (2023.3)\n",
      "Requirement already satisfied: filelock in /opt/conda/lib/python3.10/site-packages (from transformers->-r requirments.txt (line 3)) (3.15.4)\n",
      "Requirement already satisfied: huggingface-hub<1.0,>=0.23.2 in /opt/conda/lib/python3.10/site-packages (from transformers->-r requirments.txt (line 3)) (0.24.0)\n",
      "Requirement already satisfied: packaging>=20.0 in /opt/conda/lib/python3.10/site-packages (from transformers->-r requirments.txt (line 3)) (23.2)\n",
      "Requirement already satisfied: pyyaml>=5.1 in /opt/conda/lib/python3.10/site-packages (from transformers->-r requirments.txt (line 3)) (6.0.1)\n",
      "Requirement already satisfied: regex!=2019.12.17 in /opt/conda/lib/python3.10/site-packages (from transformers->-r requirments.txt (line 3)) (2023.10.3)\n",
      "Requirement already satisfied: safetensors>=0.4.1 in /opt/conda/lib/python3.10/site-packages (from transformers->-r requirments.txt (line 3)) (0.4.1)\n",
      "Requirement already satisfied: tokenizers<0.20,>=0.19 in /opt/conda/lib/python3.10/site-packages (from transformers->-r requirments.txt (line 3)) (0.19.1)\n",
      "Requirement already satisfied: tqdm>=4.27 in /opt/conda/lib/python3.10/site-packages (from transformers->-r requirments.txt (line 3)) (4.66.1)\n",
      "Requirement already satisfied: contourpy>=1.0.1 in /opt/conda/lib/python3.10/site-packages (from matplotlib->-r requirments.txt (line 4)) (1.2.1)\n",
      "Requirement already satisfied: cycler>=0.10 in /opt/conda/lib/python3.10/site-packages (from matplotlib->-r requirments.txt (line 4)) (0.12.1)\n",
      "Requirement already satisfied: fonttools>=4.22.0 in /opt/conda/lib/python3.10/site-packages (from matplotlib->-r requirments.txt (line 4)) (4.53.1)\n",
      "Requirement already satisfied: kiwisolver>=1.3.1 in /opt/conda/lib/python3.10/site-packages (from matplotlib->-r requirments.txt (line 4)) (1.4.5)\n",
      "Requirement already satisfied: pillow>=8 in /opt/conda/lib/python3.10/site-packages (from matplotlib->-r requirments.txt (line 4)) (10.1.0)\n",
      "Requirement already satisfied: pyparsing>=2.3.1 in /opt/conda/lib/python3.10/site-packages (from matplotlib->-r requirments.txt (line 4)) (3.1.1)\n",
      "Requirement already satisfied: pyarrow>=12.0.0 in /opt/conda/lib/python3.10/site-packages (from datasets->-r requirments.txt (line 5)) (14.0.1)\n",
      "Requirement already satisfied: pyarrow-hotfix in /opt/conda/lib/python3.10/site-packages (from datasets->-r requirments.txt (line 5)) (0.6)\n",
      "Requirement already satisfied: dill<0.3.9,>=0.3.0 in /opt/conda/lib/python3.10/site-packages (from datasets->-r requirments.txt (line 5)) (0.3.8)\n",
      "Requirement already satisfied: xxhash in /opt/conda/lib/python3.10/site-packages (from datasets->-r requirments.txt (line 5)) (3.4.1)\n",
      "Requirement already satisfied: multiprocess in /opt/conda/lib/python3.10/site-packages (from datasets->-r requirments.txt (line 5)) (0.70.16)\n",
      "Requirement already satisfied: fsspec<=2024.3.1,>=2023.1.0 in /opt/conda/lib/python3.10/site-packages (from fsspec[http]<=2024.3.1,>=2023.1.0->datasets->-r requirments.txt (line 5)) (2024.3.1)\n",
      "Requirement already satisfied: aiohttp in /opt/conda/lib/python3.10/site-packages (from datasets->-r requirments.txt (line 5)) (3.9.5)\n",
      "Collecting dataclasses-json<0.7,>=0.6 (from ragchecker->-r requirments.txt (line 6))\n",
      "  Downloading https://pypi.tuna.tsinghua.edu.cn/packages/c3/be/d0d44e092656fe7a06b55e6103cbce807cdbdee17884a5367c68c9860853/dataclasses_json-0.6.7-py3-none-any.whl (28 kB)\n",
      "Requirement already satisfied: loguru<0.8,>=0.7 in /opt/conda/lib/python3.10/site-packages (from ragchecker->-r requirments.txt (line 6)) (0.7.2)\n",
      "Collecting refchecker<0.3.0,>=0.2.6 (from ragchecker->-r requirments.txt (line 6))\n",
      "  Downloading https://pypi.tuna.tsinghua.edu.cn/packages/7f/97/4d234ca9c5a377de151c35649d84b042f821bcd45086603b52091b95bcd7/refchecker-0.2.9-py3-none-any.whl (66 kB)\n",
      "\u001b[2K     \u001b[90m━━━━━━━━━━━━━━━━━━━━━━━━━━━━━━━━━━━━━━━━\u001b[0m \u001b[32m66.1/66.1 kB\u001b[0m \u001b[31m2.6 MB/s\u001b[0m eta \u001b[36m0:00:00\u001b[0m\n",
      "\u001b[?25hRequirement already satisfied: ninja in /opt/conda/lib/python3.10/site-packages (from vllm->-r requirments.txt (line 7)) (1.11.1.1)\n",
      "Requirement already satisfied: psutil in /opt/conda/lib/python3.10/site-packages (from vllm->-r requirments.txt (line 7)) (5.9.6)\n",
      "Requirement already satisfied: ray>=2.9 in /opt/conda/lib/python3.10/site-packages (from vllm->-r requirments.txt (line 7)) (2.32.0)\n",
      "Requirement already satisfied: sentencepiece in /opt/conda/lib/python3.10/site-packages (from vllm->-r requirments.txt (line 7)) (0.1.99)\n",
      "Requirement already satisfied: torch==2.1.2 in /opt/conda/lib/python3.10/site-packages (from vllm->-r requirments.txt (line 7)) (2.1.2+cu118)\n",
      "Requirement already satisfied: xformers==0.0.23.post1 in /opt/conda/lib/python3.10/site-packages (from vllm->-r requirments.txt (line 7)) (0.0.23.post1)\n",
      "Requirement already satisfied: fastapi in /opt/conda/lib/python3.10/site-packages (from vllm->-r requirments.txt (line 7)) (0.106.0)\n",
      "Requirement already satisfied: uvicorn[standard] in /opt/conda/lib/python3.10/site-packages (from vllm->-r requirments.txt (line 7)) (0.24.0.post1)\n",
      "Requirement already satisfied: pydantic>=2.0 in /opt/conda/lib/python3.10/site-packages (from vllm->-r requirments.txt (line 7)) (2.8.2)\n",
      "Requirement already satisfied: prometheus-client>=0.18.0 in /opt/conda/lib/python3.10/site-packages (from vllm->-r requirments.txt (line 7)) (0.19.0)\n",
      "Requirement already satisfied: pynvml==11.5.0 in /opt/conda/lib/python3.10/site-packages (from vllm->-r requirments.txt (line 7)) (11.5.0)\n",
      "Requirement already satisfied: triton>=2.1.0 in /opt/conda/lib/python3.10/site-packages (from vllm->-r requirments.txt (line 7)) (2.1.0)\n",
      "Requirement already satisfied: outlines>=0.0.27 in /opt/conda/lib/python3.10/site-packages (from vllm->-r requirments.txt (line 7)) (0.0.46)\n",
      "Requirement already satisfied: cupy-cuda12x==12.1.0 in /opt/conda/lib/python3.10/site-packages (from vllm->-r requirments.txt (line 7)) (12.1.0)\n",
      "Requirement already satisfied: fastrlock>=0.5 in /opt/conda/lib/python3.10/site-packages (from cupy-cuda12x==12.1.0->vllm->-r requirments.txt (line 7)) (0.8.2)\n",
      "Requirement already satisfied: typing-extensions in /opt/conda/lib/python3.10/site-packages (from torch==2.1.2->vllm->-r requirments.txt (line 7)) (4.8.0)\n",
      "Requirement already satisfied: sympy in /opt/conda/lib/python3.10/site-packages (from torch==2.1.2->vllm->-r requirments.txt (line 7)) (1.12)\n",
      "Requirement already satisfied: networkx in /opt/conda/lib/python3.10/site-packages (from torch==2.1.2->vllm->-r requirments.txt (line 7)) (3.3)\n",
      "Requirement already satisfied: jinja2 in /opt/conda/lib/python3.10/site-packages (from torch==2.1.2->vllm->-r requirments.txt (line 7)) (3.1.4)\n",
      "Requirement already satisfied: charset-normalizer<4,>=2 in /opt/conda/lib/python3.10/site-packages (from requests->-r requirments.txt (line 8)) (2.0.4)\n",
      "Requirement already satisfied: idna<4,>=2.5 in /opt/conda/lib/python3.10/site-packages (from requests->-r requirments.txt (line 8)) (3.7)\n",
      "Requirement already satisfied: urllib3<3,>=1.21.1 in /opt/conda/lib/python3.10/site-packages (from requests->-r requirments.txt (line 8)) (1.26.18)\n",
      "Requirement already satisfied: certifi>=2017.4.17 in /opt/conda/lib/python3.10/site-packages (from requests->-r requirments.txt (line 8)) (2024.2.2)\n",
      "Collecting marshmallow<4.0.0,>=3.18.0 (from dataclasses-json<0.7,>=0.6->ragchecker->-r requirments.txt (line 6))\n",
      "  Downloading https://pypi.tuna.tsinghua.edu.cn/packages/3c/78/c1de55eb3311f2c200a8b91724414b8d6f5ae78891c15d9d936ea43c3dba/marshmallow-3.22.0-py3-none-any.whl (49 kB)\n",
      "\u001b[2K     \u001b[90m━━━━━━━━━━━━━━━━━━━━━━━━━━━━━━━━━━━━━━━━\u001b[0m \u001b[32m49.3/49.3 kB\u001b[0m \u001b[31m3.6 MB/s\u001b[0m eta \u001b[36m0:00:00\u001b[0m\n",
      "\u001b[?25hCollecting typing-inspect<1,>=0.4.0 (from dataclasses-json<0.7,>=0.6->ragchecker->-r requirments.txt (line 6))\n",
      "  Downloading https://pypi.tuna.tsinghua.edu.cn/packages/65/f3/107a22063bf27bdccf2024833d3445f4eea42b2e598abfbd46f6a63b6cb0/typing_inspect-0.9.0-py3-none-any.whl (8.8 kB)\n",
      "Requirement already satisfied: aiosignal>=1.1.2 in /opt/conda/lib/python3.10/site-packages (from aiohttp->datasets->-r requirments.txt (line 5)) (1.3.1)\n",
      "Requirement already satisfied: attrs>=17.3.0 in /opt/conda/lib/python3.10/site-packages (from aiohttp->datasets->-r requirments.txt (line 5)) (23.2.0)\n",
      "Requirement already satisfied: frozenlist>=1.1.1 in /opt/conda/lib/python3.10/site-packages (from aiohttp->datasets->-r requirments.txt (line 5)) (1.4.1)\n",
      "Requirement already satisfied: multidict<7.0,>=4.5 in /opt/conda/lib/python3.10/site-packages (from aiohttp->datasets->-r requirments.txt (line 5)) (6.0.5)\n",
      "Requirement already satisfied: yarl<2.0,>=1.0 in /opt/conda/lib/python3.10/site-packages (from aiohttp->datasets->-r requirments.txt (line 5)) (1.9.4)\n",
      "Requirement already satisfied: async-timeout<5.0,>=4.0 in /opt/conda/lib/python3.10/site-packages (from aiohttp->datasets->-r requirments.txt (line 5)) (4.0.3)\n",
      "Requirement already satisfied: interegular in /opt/conda/lib/python3.10/site-packages (from outlines>=0.0.27->vllm->-r requirments.txt (line 7)) (0.3.3)\n",
      "Requirement already satisfied: lark in /opt/conda/lib/python3.10/site-packages (from outlines>=0.0.27->vllm->-r requirments.txt (line 7)) (1.1.9)\n",
      "Requirement already satisfied: nest-asyncio in /opt/conda/lib/python3.10/site-packages (from outlines>=0.0.27->vllm->-r requirments.txt (line 7)) (1.6.0)\n",
      "Requirement already satisfied: cloudpickle in /opt/conda/lib/python3.10/site-packages (from outlines>=0.0.27->vllm->-r requirments.txt (line 7)) (3.0.0)\n",
      "Requirement already satisfied: diskcache in /opt/conda/lib/python3.10/site-packages (from outlines>=0.0.27->vllm->-r requirments.txt (line 7)) (5.6.3)\n",
      "Requirement already satisfied: numba in /opt/conda/lib/python3.10/site-packages (from outlines>=0.0.27->vllm->-r requirments.txt (line 7)) (0.60.0)\n",
      "Requirement already satisfied: referencing in /opt/conda/lib/python3.10/site-packages (from outlines>=0.0.27->vllm->-r requirments.txt (line 7)) (0.32.0)\n",
      "Requirement already satisfied: jsonschema in /opt/conda/lib/python3.10/site-packages (from outlines>=0.0.27->vllm->-r requirments.txt (line 7)) (4.22.0)\n",
      "Requirement already satisfied: pycountry in /opt/conda/lib/python3.10/site-packages (from outlines>=0.0.27->vllm->-r requirments.txt (line 7)) (24.6.1)\n",
      "Requirement already satisfied: pyairports in /opt/conda/lib/python3.10/site-packages (from outlines>=0.0.27->vllm->-r requirments.txt (line 7)) (2.1.1)\n",
      "Requirement already satisfied: annotated-types>=0.4.0 in /opt/conda/lib/python3.10/site-packages (from pydantic>=2.0->vllm->-r requirments.txt (line 7)) (0.7.0)\n",
      "Requirement already satisfied: pydantic-core==2.20.1 in /opt/conda/lib/python3.10/site-packages (from pydantic>=2.0->vllm->-r requirments.txt (line 7)) (2.20.1)\n",
      "Requirement already satisfied: six>=1.5 in /opt/conda/lib/python3.10/site-packages (from python-dateutil>=2.8.2->pandas->-r requirments.txt (line 2)) (1.16.0)\n",
      "Requirement already satisfied: click>=7.0 in /opt/conda/lib/python3.10/site-packages (from ray>=2.9->vllm->-r requirments.txt (line 7)) (8.1.7)\n",
      "Requirement already satisfied: msgpack<2.0.0,>=1.0.0 in /opt/conda/lib/python3.10/site-packages (from ray>=2.9->vllm->-r requirments.txt (line 7)) (1.0.8)\n",
      "Requirement already satisfied: protobuf!=3.19.5,>=3.15.3 in /opt/conda/lib/python3.10/site-packages (from ray>=2.9->vllm->-r requirments.txt (line 7)) (4.25.1)\n",
      "Collecting accelerate<0.32,>=0.31 (from refchecker<0.3.0,>=0.2.6->ragchecker->-r requirments.txt (line 6))\n",
      "  Downloading https://pypi.tuna.tsinghua.edu.cn/packages/f0/62/9ebaf1fdd3d3c737a8814f9ae409d4ac04bc93b26a46a7dab456bb7e16f8/accelerate-0.31.0-py3-none-any.whl (309 kB)\n",
      "\u001b[2K     \u001b[90m━━━━━━━━━━━━━━━━━━━━━━━━━━━━━━━━━━━━━━━\u001b[0m \u001b[32m309.4/309.4 kB\u001b[0m \u001b[31m2.1 MB/s\u001b[0m eta \u001b[36m0:00:00\u001b[0ma \u001b[36m0:00:01\u001b[0m\n",
      "\u001b[?25hCollecting anthropic<0.30,>=0.29 (from refchecker<0.3.0,>=0.2.6->ragchecker->-r requirments.txt (line 6))\n",
      "  Downloading https://pypi.tuna.tsinghua.edu.cn/packages/76/21/10519b383c19a44747f7e8db0c18aef01c6b16376e4b4e80fbbc698eb2e5/anthropic-0.29.2-py3-none-any.whl (863 kB)\n",
      "\u001b[2K     \u001b[90m━━━━━━━━━━━━━━━━━━━━━━━━━━━━━━━━━━━━━━━\u001b[0m \u001b[32m863.5/863.5 kB\u001b[0m \u001b[31m2.0 MB/s\u001b[0m eta \u001b[36m0:00:00\u001b[0ma \u001b[36m0:00:01\u001b[0m\n",
      "\u001b[?25hRequirement already satisfied: beautifulsoup4<5.0,>=4.12 in /opt/conda/lib/python3.10/site-packages (from refchecker<0.3.0,>=0.2.6->ragchecker->-r requirments.txt (line 6)) (4.12.3)\n",
      "Collecting boto3<2.0,>=1.34 (from refchecker<0.3.0,>=0.2.6->ragchecker->-r requirments.txt (line 6))\n",
      "  Downloading https://pypi.tuna.tsinghua.edu.cn/packages/c1/a3/ebf4453f46b48071018cbc84b94dde04d1f66e2011b6e1730362df4b4737/boto3-1.35.17-py3-none-any.whl (139 kB)\n",
      "\u001b[2K     \u001b[90m━━━━━━━━━━━━━━━━━━━━━━━━━━━━━━━━━━━━━━━\u001b[0m \u001b[32m139.2/139.2 kB\u001b[0m \u001b[31m2.3 MB/s\u001b[0m eta \u001b[36m0:00:00\u001b[0ma \u001b[36m0:00:01\u001b[0m\n",
      "\u001b[?25hCollecting litellm<2.0,>=1.41 (from refchecker<0.3.0,>=0.2.6->ragchecker->-r requirments.txt (line 6))\n",
      "  Downloading https://pypi.tuna.tsinghua.edu.cn/packages/58/1f/64f8ed38f2b540c96814b4aab1e2f5662cea421d9022d7977f5db0de7e3a/litellm-1.44.24-py3-none-any.whl (8.7 MB)\n",
      "\u001b[2K     \u001b[90m━━━━━━━━━━━━━━━━━━━━━━━━━━━━━━━━━━━━━━━━\u001b[0m \u001b[32m8.7/8.7 MB\u001b[0m \u001b[31m2.0 MB/s\u001b[0m eta \u001b[36m0:00:00\u001b[0m00:01\u001b[0m00:01\u001b[0m\n",
      "\u001b[?25hRequirement already satisfied: nltk<4.0,>=3.8 in /opt/conda/lib/python3.10/site-packages (from refchecker<0.3.0,>=0.2.6->ragchecker->-r requirments.txt (line 6)) (3.8.1)\n",
      "Collecting plotly<6.0,>=5.22 (from refchecker<0.3.0,>=0.2.6->ragchecker->-r requirments.txt (line 6))\n",
      "  Downloading https://pypi.tuna.tsinghua.edu.cn/packages/b3/f6/64fe388089588a0c364b03809443cd628fe0261d1364313fb7aec6bb0ebc/plotly-5.24.0-py3-none-any.whl (19.0 MB)\n",
      "\u001b[2K     \u001b[90m━━━━━━━━━━━━━━━━━━━━━━━━━━━━━━━━━━━━━━━━\u001b[0m \u001b[32m19.0/19.0 MB\u001b[0m \u001b[31m1.9 MB/s\u001b[0m eta \u001b[36m0:00:00\u001b[0m00:01\u001b[0m00:01\u001b[0m\n",
      "\u001b[?25hCollecting pytorch_lightning<3.0,>=2.3 (from refchecker<0.3.0,>=0.2.6->ragchecker->-r requirments.txt (line 6))\n",
      "  Downloading https://pypi.tuna.tsinghua.edu.cn/packages/2b/d2/ecd65ff1e0b1ca79f9785dd65d5ced7ec2643a828068aaa24e47e4c84a14/pytorch_lightning-2.4.0-py3-none-any.whl (815 kB)\n",
      "\u001b[2K     \u001b[90m━━━━━━━━━━━━━━━━━━━━━━━━━━━━━━━━━━━━━━━\u001b[0m \u001b[32m815.2/815.2 kB\u001b[0m \u001b[31m2.0 MB/s\u001b[0m eta \u001b[36m0:00:00\u001b[0ma \u001b[36m0:00:01\u001b[0m\n",
      "\u001b[?25hCollecting rank-bm25<0.3,>=0.2 (from refchecker<0.3.0,>=0.2.6->ragchecker->-r requirments.txt (line 6))\n",
      "  Downloading https://pypi.tuna.tsinghua.edu.cn/packages/2a/21/f691fb2613100a62b3fa91e9988c991e9ca5b89ea31c0d3152a3210344f9/rank_bm25-0.2.2-py3-none-any.whl (8.6 kB)\n",
      "Collecting scikit-learn<2.0,>=1.5 (from refchecker<0.3.0,>=0.2.6->ragchecker->-r requirments.txt (line 6))\n",
      "  Downloading https://pypi.tuna.tsinghua.edu.cn/packages/4c/1e/a7c7357e704459c7d56a18df4a0bf08669442d1f8878cc0864beccd6306a/scikit_learn-1.5.2-cp310-cp310-manylinux_2_17_x86_64.manylinux2014_x86_64.whl (13.3 MB)\n",
      "\u001b[2K     \u001b[90m━━━━━━━━━━━━━━━━━━━━━━━━━━━━━━━━━━━━━━━━\u001b[0m \u001b[32m13.3/13.3 MB\u001b[0m \u001b[31m2.0 MB/s\u001b[0m eta \u001b[36m0:00:00\u001b[0m00:01\u001b[0m00:01\u001b[0m\n",
      "\u001b[?25hRequirement already satisfied: spacy<4.0,>=3.7 in /opt/conda/lib/python3.10/site-packages (from refchecker<0.3.0,>=0.2.6->ragchecker->-r requirments.txt (line 6)) (3.7.2)\n",
      "Requirement already satisfied: anyio<4.0.0,>=3.7.1 in /opt/conda/lib/python3.10/site-packages (from fastapi->vllm->-r requirments.txt (line 7)) (3.7.1)\n",
      "Requirement already satisfied: starlette<0.28.0,>=0.27.0 in /opt/conda/lib/python3.10/site-packages (from fastapi->vllm->-r requirments.txt (line 7)) (0.27.0)\n",
      "Requirement already satisfied: h11>=0.8 in /opt/conda/lib/python3.10/site-packages (from uvicorn[standard]->vllm->-r requirments.txt (line 7)) (0.14.0)\n",
      "Requirement already satisfied: httptools>=0.5.0 in /opt/conda/lib/python3.10/site-packages (from uvicorn[standard]->vllm->-r requirments.txt (line 7)) (0.6.1)\n",
      "Requirement already satisfied: python-dotenv>=0.13 in /opt/conda/lib/python3.10/site-packages (from uvicorn[standard]->vllm->-r requirments.txt (line 7)) (1.0.0)\n",
      "Requirement already satisfied: uvloop!=0.15.0,!=0.15.1,>=0.14.0 in /opt/conda/lib/python3.10/site-packages (from uvicorn[standard]->vllm->-r requirments.txt (line 7)) (0.19.0)\n",
      "Requirement already satisfied: watchfiles>=0.13 in /opt/conda/lib/python3.10/site-packages (from uvicorn[standard]->vllm->-r requirments.txt (line 7)) (0.21.0)\n",
      "Requirement already satisfied: websockets>=10.4 in /opt/conda/lib/python3.10/site-packages (from uvicorn[standard]->vllm->-r requirments.txt (line 7)) (11.0.3)\n",
      "Requirement already satisfied: distro<2,>=1.7.0 in /opt/conda/lib/python3.10/site-packages (from anthropic<0.30,>=0.29->refchecker<0.3.0,>=0.2.6->ragchecker->-r requirments.txt (line 6)) (1.9.0)\n",
      "Requirement already satisfied: httpx<1,>=0.23.0 in /opt/conda/lib/python3.10/site-packages (from anthropic<0.30,>=0.29->refchecker<0.3.0,>=0.2.6->ragchecker->-r requirments.txt (line 6)) (0.27.0)\n",
      "Collecting jiter<1,>=0.4.0 (from anthropic<0.30,>=0.29->refchecker<0.3.0,>=0.2.6->ragchecker->-r requirments.txt (line 6))\n",
      "  Downloading https://pypi.tuna.tsinghua.edu.cn/packages/41/6a/c038077509d67fe876c724bfe9ad15334593851a7def0d84518172bdd44a/jiter-0.5.0-cp310-cp310-manylinux_2_17_x86_64.manylinux2014_x86_64.whl (318 kB)\n",
      "\u001b[2K     \u001b[90m━━━━━━━━━━━━━━━━━━━━━━━━━━━━━━━━━━━━━━━\u001b[0m \u001b[32m318.9/318.9 kB\u001b[0m \u001b[31m2.0 MB/s\u001b[0m eta \u001b[36m0:00:00\u001b[0m00:01\u001b[0m00:01\u001b[0m\n",
      "\u001b[?25hRequirement already satisfied: sniffio in /opt/conda/lib/python3.10/site-packages (from anthropic<0.30,>=0.29->refchecker<0.3.0,>=0.2.6->ragchecker->-r requirments.txt (line 6)) (1.3.0)\n",
      "Requirement already satisfied: exceptiongroup in /opt/conda/lib/python3.10/site-packages (from anyio<4.0.0,>=3.7.1->fastapi->vllm->-r requirments.txt (line 7)) (1.2.1)\n",
      "Requirement already satisfied: soupsieve>1.2 in /opt/conda/lib/python3.10/site-packages (from beautifulsoup4<5.0,>=4.12->refchecker<0.3.0,>=0.2.6->ragchecker->-r requirments.txt (line 6)) (2.5)\n",
      "Collecting botocore<1.36.0,>=1.35.17 (from boto3<2.0,>=1.34->refchecker<0.3.0,>=0.2.6->ragchecker->-r requirments.txt (line 6))\n",
      "  Downloading https://pypi.tuna.tsinghua.edu.cn/packages/a1/8f/08a3f2f7ef430be293831fc51bd2f9c70d6e3c0b1580261f27390696fa52/botocore-1.35.17-py3-none-any.whl (12.5 MB)\n",
      "\u001b[2K     \u001b[90m━━━━━━━━━━━━━━━━━━━━━━━━━━━━━━━━━━━━━━━━\u001b[0m \u001b[32m12.5/12.5 MB\u001b[0m \u001b[31m1.3 MB/s\u001b[0m eta \u001b[36m0:00:00\u001b[0m00:01\u001b[0m00:01\u001b[0mm\n",
      "\u001b[?25hCollecting jmespath<2.0.0,>=0.7.1 (from boto3<2.0,>=1.34->refchecker<0.3.0,>=0.2.6->ragchecker->-r requirments.txt (line 6))\n",
      "  Downloading https://pypi.tuna.tsinghua.edu.cn/packages/31/b4/b9b800c45527aadd64d5b442f9b932b00648617eb5d63d2c7a6587b7cafc/jmespath-1.0.1-py3-none-any.whl (20 kB)\n",
      "Collecting s3transfer<0.11.0,>=0.10.0 (from boto3<2.0,>=1.34->refchecker<0.3.0,>=0.2.6->ragchecker->-r requirments.txt (line 6))\n",
      "  Downloading https://pypi.tuna.tsinghua.edu.cn/packages/3c/4a/b221409913760d26cf4498b7b1741d510c82d3ad38381984a3ddc135ec66/s3transfer-0.10.2-py3-none-any.whl (82 kB)\n",
      "\u001b[2K     \u001b[90m━━━━━━━━━━━━━━━━━━━━━━━━━━━━━━━━━━━━━━━━\u001b[0m \u001b[32m82.7/82.7 kB\u001b[0m \u001b[31m2.6 MB/s\u001b[0m eta \u001b[36m0:00:00\u001b[0m\n",
      "\u001b[?25hCollecting importlib-metadata>=6.8.0 (from litellm<2.0,>=1.41->refchecker<0.3.0,>=0.2.6->ragchecker->-r requirments.txt (line 6))\n",
      "  Downloading https://pypi.tuna.tsinghua.edu.cn/packages/a0/d9/a1e041c5e7caa9a05c925f4bdbdfb7f006d1f74996af53467bc394c97be7/importlib_metadata-8.5.0-py3-none-any.whl (26 kB)\n",
      "Collecting openai>=1.40.0 (from litellm<2.0,>=1.41->refchecker<0.3.0,>=0.2.6->ragchecker->-r requirments.txt (line 6))\n",
      "  Downloading https://pypi.tuna.tsinghua.edu.cn/packages/3a/cc/d76a24613ffc50e091e514138f2950c868a55aea10ae4ffe8a6163678abf/openai-1.44.1-py3-none-any.whl (373 kB)\n",
      "\u001b[2K     \u001b[90m━━━━━━━━━━━━━━━━━━━━━━━━━━━━━━━━━━━━━━━\u001b[0m \u001b[32m373.5/373.5 kB\u001b[0m \u001b[31m2.1 MB/s\u001b[0m eta \u001b[36m0:00:00\u001b[0ma \u001b[36m0:00:01\u001b[0m\n",
      "\u001b[?25hRequirement already satisfied: tiktoken>=0.7.0 in /opt/conda/lib/python3.10/site-packages (from litellm<2.0,>=1.41->refchecker<0.3.0,>=0.2.6->ragchecker->-r requirments.txt (line 6)) (0.7.0)\n",
      "Requirement already satisfied: MarkupSafe>=2.0 in /opt/conda/lib/python3.10/site-packages (from jinja2->torch==2.1.2->vllm->-r requirments.txt (line 7)) (2.1.5)\n",
      "Requirement already satisfied: jsonschema-specifications>=2023.03.6 in /opt/conda/lib/python3.10/site-packages (from jsonschema->outlines>=0.0.27->vllm->-r requirments.txt (line 7)) (2023.12.1)\n",
      "Requirement already satisfied: rpds-py>=0.7.1 in /opt/conda/lib/python3.10/site-packages (from jsonschema->outlines>=0.0.27->vllm->-r requirments.txt (line 7)) (0.13.2)\n",
      "Requirement already satisfied: joblib in /opt/conda/lib/python3.10/site-packages (from nltk<4.0,>=3.8->refchecker<0.3.0,>=0.2.6->ragchecker->-r requirments.txt (line 6)) (1.4.2)\n",
      "Requirement already satisfied: tenacity>=6.2.0 in /opt/conda/lib/python3.10/site-packages (from plotly<6.0,>=5.22->refchecker<0.3.0,>=0.2.6->ragchecker->-r requirments.txt (line 6)) (8.5.0)\n",
      "Collecting torchmetrics>=0.7.0 (from pytorch_lightning<3.0,>=2.3->refchecker<0.3.0,>=0.2.6->ragchecker->-r requirments.txt (line 6))\n",
      "  Downloading https://pypi.tuna.tsinghua.edu.cn/packages/29/1b/b38033e61c28e52dde7bd459df6567c04c127ee153722c73b9acd0fe550b/torchmetrics-1.4.1-py3-none-any.whl (866 kB)\n",
      "\u001b[2K     \u001b[90m━━━━━━━━━━━━━━━━━━━━━━━━━━━━━━━━━━━━━━━\u001b[0m \u001b[32m866.2/866.2 kB\u001b[0m \u001b[31m2.0 MB/s\u001b[0m eta \u001b[36m0:00:00\u001b[0m00:01\u001b[0m00:01\u001b[0m\n",
      "\u001b[?25hCollecting lightning-utilities>=0.10.0 (from pytorch_lightning<3.0,>=2.3->refchecker<0.3.0,>=0.2.6->ragchecker->-r requirments.txt (line 6))\n",
      "  Downloading https://pypi.tuna.tsinghua.edu.cn/packages/16/2a/d5de2884759ca5eb1103200c1c3b9c5df362250020870a1556d19d15a6d1/lightning_utilities-0.11.7-py3-none-any.whl (26 kB)\n",
      "Requirement already satisfied: scipy>=1.6.0 in /opt/conda/lib/python3.10/site-packages (from scikit-learn<2.0,>=1.5->refchecker<0.3.0,>=0.2.6->ragchecker->-r requirments.txt (line 6)) (1.11.4)\n",
      "Requirement already satisfied: threadpoolctl>=3.1.0 in /opt/conda/lib/python3.10/site-packages (from scikit-learn<2.0,>=1.5->refchecker<0.3.0,>=0.2.6->ragchecker->-r requirments.txt (line 6)) (3.5.0)\n",
      "Requirement already satisfied: spacy-legacy<3.1.0,>=3.0.11 in /opt/conda/lib/python3.10/site-packages (from spacy<4.0,>=3.7->refchecker<0.3.0,>=0.2.6->ragchecker->-r requirments.txt (line 6)) (3.0.12)\n",
      "Requirement already satisfied: spacy-loggers<2.0.0,>=1.0.0 in /opt/conda/lib/python3.10/site-packages (from spacy<4.0,>=3.7->refchecker<0.3.0,>=0.2.6->ragchecker->-r requirments.txt (line 6)) (1.0.5)\n",
      "Requirement already satisfied: murmurhash<1.1.0,>=0.28.0 in /opt/conda/lib/python3.10/site-packages (from spacy<4.0,>=3.7->refchecker<0.3.0,>=0.2.6->ragchecker->-r requirments.txt (line 6)) (1.0.10)\n",
      "Requirement already satisfied: cymem<2.1.0,>=2.0.2 in /opt/conda/lib/python3.10/site-packages (from spacy<4.0,>=3.7->refchecker<0.3.0,>=0.2.6->ragchecker->-r requirments.txt (line 6)) (2.0.8)\n",
      "Requirement already satisfied: preshed<3.1.0,>=3.0.2 in /opt/conda/lib/python3.10/site-packages (from spacy<4.0,>=3.7->refchecker<0.3.0,>=0.2.6->ragchecker->-r requirments.txt (line 6)) (3.0.9)\n",
      "Requirement already satisfied: thinc<8.3.0,>=8.1.8 in /opt/conda/lib/python3.10/site-packages (from spacy<4.0,>=3.7->refchecker<0.3.0,>=0.2.6->ragchecker->-r requirments.txt (line 6)) (8.2.5)\n",
      "Requirement already satisfied: wasabi<1.2.0,>=0.9.1 in /opt/conda/lib/python3.10/site-packages (from spacy<4.0,>=3.7->refchecker<0.3.0,>=0.2.6->ragchecker->-r requirments.txt (line 6)) (1.1.2)\n",
      "Requirement already satisfied: srsly<3.0.0,>=2.4.3 in /opt/conda/lib/python3.10/site-packages (from spacy<4.0,>=3.7->refchecker<0.3.0,>=0.2.6->ragchecker->-r requirments.txt (line 6)) (2.4.8)\n",
      "Requirement already satisfied: catalogue<2.1.0,>=2.0.6 in /opt/conda/lib/python3.10/site-packages (from spacy<4.0,>=3.7->refchecker<0.3.0,>=0.2.6->ragchecker->-r requirments.txt (line 6)) (2.0.10)\n",
      "Requirement already satisfied: weasel<0.4.0,>=0.1.0 in /opt/conda/lib/python3.10/site-packages (from spacy<4.0,>=3.7->refchecker<0.3.0,>=0.2.6->ragchecker->-r requirments.txt (line 6)) (0.3.4)\n",
      "Requirement already satisfied: typer<0.10.0,>=0.3.0 in /opt/conda/lib/python3.10/site-packages (from spacy<4.0,>=3.7->refchecker<0.3.0,>=0.2.6->ragchecker->-r requirments.txt (line 6)) (0.9.0)\n",
      "Requirement already satisfied: smart-open<7.0.0,>=5.2.1 in /opt/conda/lib/python3.10/site-packages (from spacy<4.0,>=3.7->refchecker<0.3.0,>=0.2.6->ragchecker->-r requirments.txt (line 6)) (6.4.0)\n",
      "Requirement already satisfied: setuptools in /opt/conda/lib/python3.10/site-packages (from spacy<4.0,>=3.7->refchecker<0.3.0,>=0.2.6->ragchecker->-r requirments.txt (line 6)) (68.0.0)\n",
      "Requirement already satisfied: langcodes<4.0.0,>=3.2.0 in /opt/conda/lib/python3.10/site-packages (from spacy<4.0,>=3.7->refchecker<0.3.0,>=0.2.6->ragchecker->-r requirments.txt (line 6)) (3.4.0)\n",
      "Collecting mypy-extensions>=0.3.0 (from typing-inspect<1,>=0.4.0->dataclasses-json<0.7,>=0.6->ragchecker->-r requirments.txt (line 6))\n",
      "  Downloading https://pypi.tuna.tsinghua.edu.cn/packages/2a/e2/5d3f6ada4297caebe1a2add3b126fe800c96f56dbe5d1988a2cbe0b267aa/mypy_extensions-1.0.0-py3-none-any.whl (4.7 kB)\n",
      "Requirement already satisfied: llvmlite<0.44,>=0.43.0dev0 in /opt/conda/lib/python3.10/site-packages (from numba->outlines>=0.0.27->vllm->-r requirments.txt (line 7)) (0.43.0)\n",
      "Requirement already satisfied: mpmath>=0.19 in /opt/conda/lib/python3.10/site-packages (from sympy->torch==2.1.2->vllm->-r requirments.txt (line 7)) (1.3.0)\n",
      "Requirement already satisfied: httpcore==1.* in /opt/conda/lib/python3.10/site-packages (from httpx<1,>=0.23.0->anthropic<0.30,>=0.29->refchecker<0.3.0,>=0.2.6->ragchecker->-r requirments.txt (line 6)) (1.0.5)\n",
      "Collecting zipp>=3.20 (from importlib-metadata>=6.8.0->litellm<2.0,>=1.41->refchecker<0.3.0,>=0.2.6->ragchecker->-r requirments.txt (line 6))\n",
      "  Downloading https://pypi.tuna.tsinghua.edu.cn/packages/07/9e/c96f7a4cd0bf5625bb409b7e61e99b1130dc63a98cb8b24aeabae62d43e8/zipp-3.20.1-py3-none-any.whl (9.0 kB)\n",
      "Requirement already satisfied: language-data>=1.2 in /opt/conda/lib/python3.10/site-packages (from langcodes<4.0.0,>=3.2.0->spacy<4.0,>=3.7->refchecker<0.3.0,>=0.2.6->ragchecker->-r requirments.txt (line 6)) (1.2.0)\n",
      "Collecting typing-extensions (from torch==2.1.2->vllm->-r requirments.txt (line 7))\n",
      "  Downloading https://pypi.tuna.tsinghua.edu.cn/packages/26/9f/ad63fc0248c5379346306f8668cda6e2e2e9c95e01216d2b8ffd9ff037d0/typing_extensions-4.12.2-py3-none-any.whl (37 kB)\n",
      "Requirement already satisfied: blis<0.8.0,>=0.7.8 in /opt/conda/lib/python3.10/site-packages (from thinc<8.3.0,>=8.1.8->spacy<4.0,>=3.7->refchecker<0.3.0,>=0.2.6->ragchecker->-r requirments.txt (line 6)) (0.7.11)\n",
      "Requirement already satisfied: confection<1.0.0,>=0.0.1 in /opt/conda/lib/python3.10/site-packages (from thinc<8.3.0,>=8.1.8->spacy<4.0,>=3.7->refchecker<0.3.0,>=0.2.6->ragchecker->-r requirments.txt (line 6)) (0.1.5)\n",
      "Requirement already satisfied: cloudpathlib<0.17.0,>=0.7.0 in /opt/conda/lib/python3.10/site-packages (from weasel<0.4.0,>=0.1.0->spacy<4.0,>=3.7->refchecker<0.3.0,>=0.2.6->ragchecker->-r requirments.txt (line 6)) (0.16.0)\n",
      "Requirement already satisfied: marisa-trie>=0.7.7 in /opt/conda/lib/python3.10/site-packages (from language-data>=1.2->langcodes<4.0.0,>=3.2.0->spacy<4.0,>=3.7->refchecker<0.3.0,>=0.2.6->ragchecker->-r requirments.txt (line 6)) (1.2.0)\n",
      "Installing collected packages: zipp, typing-extensions, rank-bm25, plotly, mypy-extensions, marshmallow, jmespath, jiter, et-xmlfile, typing-inspect, scikit-learn, openpyxl, lightning-utilities, importlib-metadata, botocore, torchmetrics, s3transfer, dataclasses-json, accelerate, pytorch_lightning, openai, boto3, anthropic, litellm, refchecker, ragchecker\n",
      "  Attempting uninstall: typing-extensions\n",
      "    Found existing installation: typing_extensions 4.8.0\n",
      "    Uninstalling typing_extensions-4.8.0:\n",
      "      Successfully uninstalled typing_extensions-4.8.0\n",
      "  Attempting uninstall: plotly\n",
      "    Found existing installation: plotly 5.18.0\n",
      "    Uninstalling plotly-5.18.0:\n",
      "      Successfully uninstalled plotly-5.18.0\n",
      "  Attempting uninstall: scikit-learn\n",
      "    Found existing installation: scikit-learn 1.4.0\n",
      "    Uninstalling scikit-learn-1.4.0:\n",
      "      Successfully uninstalled scikit-learn-1.4.0\n",
      "  Attempting uninstall: accelerate\n",
      "    Found existing installation: accelerate 0.32.1\n",
      "    Uninstalling accelerate-0.32.1:\n",
      "      Successfully uninstalled accelerate-0.32.1\n",
      "Successfully installed accelerate-0.31.0 anthropic-0.29.2 boto3-1.35.17 botocore-1.35.17 dataclasses-json-0.6.7 et-xmlfile-1.1.0 importlib-metadata-8.5.0 jiter-0.5.0 jmespath-1.0.1 lightning-utilities-0.11.7 litellm-1.44.24 marshmallow-3.22.0 mypy-extensions-1.0.0 openai-1.44.1 openpyxl-3.1.5 plotly-5.24.0 pytorch_lightning-2.4.0 ragchecker-0.1.6 rank-bm25-0.2.2 refchecker-0.2.9 s3transfer-0.10.2 scikit-learn-1.5.2 torchmetrics-1.4.1 typing-extensions-4.12.2 typing-inspect-0.9.0 zipp-3.20.1\n",
      "\u001b[33mWARNING: Running pip as the 'root' user can result in broken permissions and conflicting behaviour with the system package manager. It is recommended to use a virtual environment instead: https://pip.pypa.io/warnings/venv\u001b[0m\u001b[33m\n",
      "\u001b[0m\n",
      "\u001b[1m[\u001b[0m\u001b[34;49mnotice\u001b[0m\u001b[1;39;49m]\u001b[0m\u001b[39;49m A new release of pip is available: \u001b[0m\u001b[31;49m23.3.1\u001b[0m\u001b[39;49m -> \u001b[0m\u001b[32;49m24.2\u001b[0m\n",
      "\u001b[1m[\u001b[0m\u001b[34;49mnotice\u001b[0m\u001b[1;39;49m]\u001b[0m\u001b[39;49m To update, run: \u001b[0m\u001b[32;49mpip install --upgrade pip\u001b[0m\n"
     ]
    }
   ],
   "source": [
    "!pip install -r requirments.txt"
   ]
  },
  {
   "cell_type": "code",
   "execution_count": 40,
   "id": "b4399a65-09db-4556-9e25-e0310eb1b9b7",
   "metadata": {
    "tags": []
   },
   "outputs": [],
   "source": [
    "import pandas as pd\n",
    "import json\n",
    "import os\n",
    "import re\n",
    "# from transformers import AutoModelForCausalLM, AutoTokenizer\n",
    "import matplotlib.pyplot as plt\n",
    "import numpy as np\n",
    "from datasets import Dataset\n",
    "import sys\n",
    "sys.path.append('../..')\n",
    "from rageval.models import OpenAILLM"
   ]
  },
  {
   "cell_type": "markdown",
   "id": "cdd941fe",
   "metadata": {},
   "source": [
    "## 1.Load test dataset"
   ]
  },
  {
   "cell_type": "code",
   "execution_count": 106,
   "id": "7b09ca75-4b82-4375-a9f0-821ac913a7ae",
   "metadata": {
    "tags": []
   },
   "outputs": [],
   "source": [
    "file_path = 'df_result_excel.xlsx'\n",
    "df = pd.read_excel(file_path)\n",
    "# qsts = df['question']\n",
    "# evidences = [json.loads(i.replace(\"'\", '\"')) for i in df['evidences']]\n",
    "# evidences = [[e['content'] for e in i] for i in evidences]\n",
    "# qwen_results = df['qwen_results']\n",
    "# yi_results = df['yi_results']\n",
    "# glm4_results = df['glm4_results']"
   ]
  },
  {
   "cell_type": "code",
   "execution_count": 7,
   "id": "c36420da",
   "metadata": {},
   "outputs": [
    {
     "data": {
      "text/html": [
       "<div>\n",
       "<style scoped>\n",
       "    .dataframe tbody tr th:only-of-type {\n",
       "        vertical-align: middle;\n",
       "    }\n",
       "\n",
       "    .dataframe tbody tr th {\n",
       "        vertical-align: top;\n",
       "    }\n",
       "\n",
       "    .dataframe thead th {\n",
       "        text-align: right;\n",
       "    }\n",
       "</style>\n",
       "<table border=\"1\" class=\"dataframe\">\n",
       "  <thead>\n",
       "    <tr style=\"text-align: right;\">\n",
       "      <th></th>\n",
       "      <th>question</th>\n",
       "      <th>evidences</th>\n",
       "      <th>result</th>\n",
       "      <th>qwen_results</th>\n",
       "      <th>yi_results</th>\n",
       "      <th>glm4_results</th>\n",
       "    </tr>\n",
       "  </thead>\n",
       "  <tbody>\n",
       "    <tr>\n",
       "      <th>0</th>\n",
       "      <td>1.习近平主席在何时何地会见了埃塞俄比亚总理海尔马里亚姆？</td>\n",
       "      <td>[{'title': '习语录_1_list.json', 'content': '蒙方高度...</td>\n",
       "      <td>习近平主席在2017年5月12日于北京人民大会堂会见了来华出席“一带一路”国际合作高峰论坛的...</td>\n",
       "      <td>习近平主席在2017年5月12日于北京人民大会堂会见了埃塞俄比亚总理海尔马里亚姆。</td>\n",
       "      <td>习近平主席在2023年10月17日上午在北京人民大会堂会见了埃塞俄比亚总理阿比。[8] 请...</td>\n",
       "      <td>\\n习近平主席分别于2017年5月12日在北京人民大会堂以及2023年3月28日在南非德班会...</td>\n",
       "    </tr>\n",
       "    <tr>\n",
       "      <th>1</th>\n",
       "      <td>2.埃塞俄比亚希望与中国在哪些领域加强合作？</td>\n",
       "      <td>[{'title': '习语录_3_list.json', 'content': '贾格纳特...</td>\n",
       "      <td>根据所提供的支撑信息，埃塞俄比亚希望与中国在以下领域加强合作：\\n\\n1. **全面深化各领...</td>\n",
       "      <td>埃塞俄比亚希望与中国在以下领域加强合作：\\n\\n1. **共建“一带一路”框架下合作**：...</td>\n",
       "      <td>埃塞俄比亚希望与中国在以下领域加强合作：\\n\\n1. 政治合作： 埃塞俄比亚希望与中国保持...</td>\n",
       "      <td>\\n埃塞俄比亚希望与中国在以下领域加强合作：\\n\\n1. 经贸和投资合作\\n2. “一带一路...</td>\n",
       "    </tr>\n",
       "  </tbody>\n",
       "</table>\n",
       "</div>"
      ],
      "text/plain": [
       "                        question   \n",
       "0  1.习近平主席在何时何地会见了埃塞俄比亚总理海尔马里亚姆？  \\\n",
       "1         2.埃塞俄比亚希望与中国在哪些领域加强合作？   \n",
       "\n",
       "                                           evidences   \n",
       "0  [{'title': '习语录_1_list.json', 'content': '蒙方高度...  \\\n",
       "1  [{'title': '习语录_3_list.json', 'content': '贾格纳特...   \n",
       "\n",
       "                                              result   \n",
       "0  习近平主席在2017年5月12日于北京人民大会堂会见了来华出席“一带一路”国际合作高峰论坛的...  \\\n",
       "1  根据所提供的支撑信息，埃塞俄比亚希望与中国在以下领域加强合作：\\n\\n1. **全面深化各领...   \n",
       "\n",
       "                                        qwen_results   \n",
       "0          习近平主席在2017年5月12日于北京人民大会堂会见了埃塞俄比亚总理海尔马里亚姆。  \\\n",
       "1   埃塞俄比亚希望与中国在以下领域加强合作：\\n\\n1. **共建“一带一路”框架下合作**：...   \n",
       "\n",
       "                                          yi_results   \n",
       "0   习近平主席在2023年10月17日上午在北京人民大会堂会见了埃塞俄比亚总理阿比。[8] 请...  \\\n",
       "1   埃塞俄比亚希望与中国在以下领域加强合作：\\n\\n1. 政治合作： 埃塞俄比亚希望与中国保持...   \n",
       "\n",
       "                                        glm4_results  \n",
       "0  \\n习近平主席分别于2017年5月12日在北京人民大会堂以及2023年3月28日在南非德班会...  \n",
       "1  \\n埃塞俄比亚希望与中国在以下领域加强合作：\\n\\n1. 经贸和投资合作\\n2. “一带一路...  "
      ]
     },
     "execution_count": 7,
     "metadata": {},
     "output_type": "execute_result"
    }
   ],
   "source": [
    "df.head(2)"
   ]
  },
  {
   "cell_type": "markdown",
   "id": "5087e3aa",
   "metadata": {},
   "source": [
    "## 2.LLM evaluator"
   ]
  },
  {
   "cell_type": "markdown",
   "id": "783f07c1",
   "metadata": {},
   "source": [
    "Below we will use `ragas.OpenAILLM` to construct a LLM evaluator."
   ]
  },
  {
   "cell_type": "markdown",
   "id": "187ba98e",
   "metadata": {},
   "source": [
    "### 2.1 Deploy the model with vllm as a server\n",
    "\n",
    "Run bash code to deploy `QwenQwen2-72B-Instruct` as a local LLM server, or you can deploy your own model. This model will evaluate the outputs we loaded before.\n",
    "```bash\n",
    "python -m vllm.entrypoints.openai.api_server \\\n",
    "  --model /home/gomall/models/QwenQwen2-72B-Instruct \\\n",
    "  --tensor-parallel-size 4 \\\n",
    "  --dtype auto \\\n",
    "  --api-key sk-123456789 \\\n",
    "  --gpu-memory-utilization 0.8 \\\n",
    "  --port 5000\n",
    "```"
   ]
  },
  {
   "cell_type": "markdown",
   "id": "df7491c8",
   "metadata": {},
   "source": [
    "Set environment varibles for OpenAILLM"
   ]
  },
  {
   "cell_type": "code",
   "execution_count": 6,
   "id": "eabe6aaf",
   "metadata": {},
   "outputs": [],
   "source": [
    "os.environ[\"MODEL\"] = \"/home/gomall/models/QwenQwen2-72B-Instruct\"\n",
    "os.environ[\"BASE_URL\"] = \"127.0.0.1:5000\"\n",
    "os.environ[\"API_KEY\"] = \"sk-123456789\""
   ]
  },
  {
   "cell_type": "markdown",
   "id": "917c2409",
   "metadata": {},
   "source": [
    "### 2.2 prompts"
   ]
  },
  {
   "cell_type": "markdown",
   "id": "15a7c5f7",
   "metadata": {},
   "source": [
    "Prepare prompts for LLM evaluator"
   ]
  },
  {
   "cell_type": "code",
   "execution_count": 52,
   "id": "d05772bd",
   "metadata": {},
   "outputs": [],
   "source": [
    "RELEVANCE_SYSTEM = \"\"\"You are an evaluator tasked with assessing the relevance of an answer to a given question. Your goal is to analyze the provided question and answer, and assign a relevance score between 1 and 5, where:\n",
    "\n",
    "1: The model is completely unrelated to the question.\n",
    "2: The model has minimal relevance, addressing only a small aspect of the question.\n",
    "3: The model is somewhat relevant, covering some parts of the question but missing key elements.\n",
    "4: The model is mostly relevant, addressing most aspects of the question with minor omissions.\n",
    "5: The answer is highly relevant, thoroughly addressing the question with clear and comprehensive information.\n",
    "\n",
    "Begin your evaluation by providing a short explanation. Be as objective as possible. After providing your explanation, please provide your evaluation by strictly following the format such as: [[3]].\"\"\"\n",
    "\n",
    "CORRECTNESS_SYSTEM = \"\"\"\"Please act as an impartial judge and evaluate the quality of the responses provided by two AI assistants to the user question displayed below. \\\n",
    "You will be given assistant A's answer and assistant B's answer. \\\n",
    "You should choose the assistant that follows the user's instructions and answers the user's questions better, consider the CORRECTNESS of answers\\\n",
    "Your job is to evaluate which assistant's answer is better, where:\n",
    "A: if assistant A is better,\n",
    "B: if assistant B is better,\n",
    "C: for a tie.\n",
    "\n",
    "Begin your evaluation by comparing the two responses and provide a short explanation. \\\n",
    "Identify and correct any mistakes. Avoid any position biases and ensure that the order in which the responses were presented does not influence your decision. \\\n",
    "Do not allow the length of the responses to influence your evaluation. Do not favor certain names of the assistants. Be as objective as possible. \\\n",
    "After providing your explanation, output your final verdict by strictly following the format such as: [[A]].\"\"\"\n",
    "\n",
    "QA = \"\"\"[Question]\n",
    "{question}\n",
    "\n",
    "[The Start of Assistant’s Answer]\n",
    "{answer_a}\n",
    "[The End of Assistant’s Answer]\"\"\"\n",
    "\n",
    "QA_PAIR = \"\"\"[User Question]\n",
    "{question}\n",
    "\n",
    "[The Start of Assistant A's Answer]\n",
    "{answer_a}\n",
    "[The End of Assistant A's Answer]\n",
    "\n",
    "[The Start of Assistant B's Answer]\n",
    "{answer_b}\n",
    "[The End of Assistant B's Answer]\"\"\""
   ]
  },
  {
   "cell_type": "code",
   "execution_count": 53,
   "id": "086f2582",
   "metadata": {},
   "outputs": [],
   "source": [
    "def gen_prompt(question, answer_a, answer_b=None, reference=None, system_instruction=RELEVANCE_SYSTEM, user_instruction=QA):\n",
    "    return [\n",
    "            {\"role\": \"system\", \"content\": system_instruction.strip()},\n",
    "            {\"role\": \"user\", \"content\": user_instruction.format(question=question, answer_a=answer_a, answer_b=answer_b, reference =reference)}\n",
    "        ]"
   ]
  },
  {
   "cell_type": "markdown",
   "id": "fc04c588-2f3d-44aa-96fb-16463a133091",
   "metadata": {},
   "source": [
    "### 2.3 evaluate the model outputs"
   ]
  },
  {
   "cell_type": "code",
   "execution_count": 4,
   "id": "4066ac08-9d86-4bb5-b4c2-a0993cb4e7bf",
   "metadata": {},
   "outputs": [],
   "source": [
    "llm_evaluator = OpenAILLM(model=os.getenv(\"MODEL\"), \n",
    "                          _api_key_env_var=\"API_KEY\",\n",
    "                          base_url=os.getenv(\"BASE_URL\"))"
   ]
  },
  {
   "cell_type": "markdown",
   "id": "af2e4443",
   "metadata": {},
   "source": [
    "The following `evaluate` function takes the entire dataframe `df` as input. \n",
    "- `answer_a` and `answer_b` are the column names of the data to be evaluated. \n",
    "- `sys_inst` and `usr_inst` are the prompt templates defined in section 2.2. \n",
    "- `max_workers` indicates the number of threads the LLM will use to process evaluation requests in parallel."
   ]
  },
  {
   "cell_type": "code",
   "execution_count": 111,
   "id": "f973cf06",
   "metadata": {},
   "outputs": [],
   "source": [
    "def evaluate(df:pd.DataFrame, answer_a:str, answer_b:str, sys_inst:str, usr_inst:str, max_workers:int):\n",
    "    prompts = []\n",
    "    for _, example in df.iterrows():\n",
    "        prompts.append(gen_prompt(question=example['question'], \n",
    "                                  answer_a=example[answer_a], \n",
    "                                  answer_b=example[answer_b] if answer_b is not None else None, \n",
    "                                  reference=None, \n",
    "                                  system_instruction=sys_inst, \n",
    "                                  user_instruction=usr_inst))\n",
    "    results = llm_evaluator.batch_generate(prompts, max_workers=max_workers)\n",
    "    \n",
    "    texts = [r.generations[0][0].text for r in results]\n",
    "    \n",
    "    def get_score(text:str):\n",
    "        match = re.search(r'\\[\\[(\\d|[A-Z])\\]\\]', text)\n",
    "        return match.group(1) if match else None\n",
    "    \n",
    "    a = answer_a.split('_')[0]\n",
    "    b = answer_b.split('_')[0] if answer_b is not None else None\n",
    "    \n",
    "    if answer_b is not None:\n",
    "        df.loc[:, f\"{a}_vs_{b}_completion\"] = texts\n",
    "        df.loc[:, f\"{a}_vs_{b}_score\"] = df[f\"{a}_vs_{b}_completion\"].apply(lambda x: get_score(x))\n",
    "    else:\n",
    "        df.loc[:, a + '_completion'] = texts\n",
    "        df.loc[:, a + '_score'] = df[a + '_completion'].apply(lambda x: get_score(x))\n",
    "    \n",
    "    return prompts, df"
   ]
  },
  {
   "cell_type": "code",
   "execution_count": 108,
   "id": "b143f4d5-d302-4d32-a505-f0b368e53655",
   "metadata": {},
   "outputs": [
    {
     "name": "stderr",
     "output_type": "stream",
     "text": [
      "Generating:   0%|          | 0/45 [00:00<?, ?it/s]"
     ]
    },
    {
     "name": "stderr",
     "output_type": "stream",
     "text": [
      "Generating: 100%|██████████| 45/45 [00:32<00:00,  1.38it/s]\n",
      "Generating: 100%|██████████| 45/45 [00:15<00:00,  2.97it/s]\n",
      "Generating: 100%|██████████| 45/45 [00:16<00:00,  2.76it/s]\n"
     ]
    }
   ],
   "source": [
    "original_results = ['yi_results', 'glm4_results', 'qwen_results']\n",
    "# relevance\n",
    "for answer_a in original_results:\n",
    "    _, df = evaluate(df, answer_a=answer_a, answer_b=None, sys_inst=RELEVANCE_SYSTEM, usr_inst=QA, max_workers=8)"
   ]
  },
  {
   "cell_type": "code",
   "execution_count": 114,
   "id": "9db81c3f",
   "metadata": {},
   "outputs": [
    {
     "name": "stderr",
     "output_type": "stream",
     "text": [
      "Generating:   0%|          | 0/45 [00:00<?, ?it/s]"
     ]
    },
    {
     "name": "stderr",
     "output_type": "stream",
     "text": [
      "Generating: 100%|██████████| 45/45 [00:29<00:00,  1.52it/s]\n",
      "Generating: 100%|██████████| 45/45 [00:28<00:00,  1.59it/s]\n",
      "Generating: 100%|██████████| 45/45 [00:30<00:00,  1.49it/s]\n"
     ]
    }
   ],
   "source": [
    "# correctness\n",
    "import itertools\n",
    "for (answer_a, answer_b) in itertools.combinations(original_results, 2):\n",
    "    _, df = evaluate(df, answer_a=answer_a, answer_b=answer_b, sys_inst=CORRECTNESS_SYSTEM, usr_inst=QA_PAIR, max_workers=8)"
   ]
  },
  {
   "cell_type": "code",
   "execution_count": 118,
   "id": "c4ea5622",
   "metadata": {},
   "outputs": [],
   "source": [
    "# answer length \n",
    "for answer in original_results:\n",
    "    df[f\"{answer.split('_')[0]}_length\"] = df[answer].apply(lambda x: len(x))"
   ]
  },
  {
   "cell_type": "code",
   "execution_count": 120,
   "id": "fe5ac4b9",
   "metadata": {},
   "outputs": [],
   "source": [
    "df.to_excel('df_relevance_correctness_length_excel.xlsx', index=False)"
   ]
  },
  {
   "cell_type": "markdown",
   "id": "7859c449",
   "metadata": {},
   "source": [
    "## 3.Result Analysis"
   ]
  },
  {
   "cell_type": "code",
   "execution_count": 190,
   "id": "7028fd55",
   "metadata": {},
   "outputs": [
    {
     "data": {
      "text/html": [
       "<div>\n",
       "<style scoped>\n",
       "    .dataframe tbody tr th:only-of-type {\n",
       "        vertical-align: middle;\n",
       "    }\n",
       "\n",
       "    .dataframe tbody tr th {\n",
       "        vertical-align: top;\n",
       "    }\n",
       "\n",
       "    .dataframe thead th {\n",
       "        text-align: right;\n",
       "    }\n",
       "</style>\n",
       "<table border=\"1\" class=\"dataframe\">\n",
       "  <thead>\n",
       "    <tr style=\"text-align: right;\">\n",
       "      <th></th>\n",
       "      <th>yi</th>\n",
       "      <th>glm4</th>\n",
       "      <th>qwen</th>\n",
       "    </tr>\n",
       "  </thead>\n",
       "  <tbody>\n",
       "    <tr>\n",
       "      <th>relevance</th>\n",
       "      <td>4.733333</td>\n",
       "      <td>4.911111</td>\n",
       "      <td>4.933333</td>\n",
       "    </tr>\n",
       "    <tr>\n",
       "      <th>answer_length</th>\n",
       "      <td>2532.444444</td>\n",
       "      <td>311.466667</td>\n",
       "      <td>550.800000</td>\n",
       "    </tr>\n",
       "  </tbody>\n",
       "</table>\n",
       "</div>"
      ],
      "text/plain": [
       "                        yi        glm4        qwen\n",
       "relevance         4.733333    4.911111    4.933333\n",
       "answer_length  2532.444444  311.466667  550.800000"
      ]
     },
     "execution_count": 190,
     "metadata": {},
     "output_type": "execute_result"
    }
   ],
   "source": [
    "models = ['yi','glm4','qwen']\n",
    "\n",
    "results = pd.DataFrame({\n",
    "    'relevance': [df[f\"{m}_score\"].astype(float).mean() for m in models],\n",
    "    'answer_length': [df[f\"{m}_length\"].mean() for m in models],\n",
    "},columns=['relevance','answer_length'], index=models)\n",
    "\n",
    "results.T"
   ]
  },
  {
   "cell_type": "markdown",
   "id": "6373c9dc",
   "metadata": {},
   "source": [
    "### 3.1 calculate winrate for each pair"
   ]
  },
  {
   "cell_type": "code",
   "execution_count": 191,
   "id": "70ae47fe-12fd-44e1-b125-89dc05f813d6",
   "metadata": {},
   "outputs": [],
   "source": [
    "def calculate_winrates(df, models):\n",
    "    wins = {k:0 for k in models}\n",
    "    nums = {m:0 for m in models}\n",
    "    for model_a, model_b in itertools.combinations(models, 2):\n",
    "        a= df[f\"{model_a}_vs_{model_b}_score\"].to_list().count('A')\n",
    "        b= df[f\"{model_a}_vs_{model_b}_score\"].to_list().count('B')\n",
    "        c= df[f\"{model_a}_vs_{model_b}_score\"].to_list().count('C')\n",
    "        wins[model_a] += a+0.5*c\n",
    "        wins[model_b] += b+0.5*c\n",
    "        nums[model_a] += a+b+c\n",
    "        nums[model_b] += a+b+c\n",
    "        # print(f\"{model_a} vs {model_b}: \", wins[model_a], wins[model_b])\n",
    "        \n",
    "    return {k: wins[k]/nums[k] for k in models}"
   ]
  },
  {
   "cell_type": "code",
   "execution_count": 192,
   "id": "95886cb3",
   "metadata": {},
   "outputs": [],
   "source": [
    "correctness_winrates = calculate_winrates(df, models)\n",
    "results = pd.concat([results.T,pd.DataFrame([correctness_winrates], index=['correctness'])])"
   ]
  },
  {
   "cell_type": "code",
   "execution_count": 193,
   "id": "1f736201",
   "metadata": {},
   "outputs": [],
   "source": [
    "# normalize\n",
    "results.loc['relevance'] = results.loc['relevance']/5\n",
    "results.loc['answer_length'] = results.loc['answer_length']/results.loc['answer_length'].max()"
   ]
  },
  {
   "cell_type": "code",
   "execution_count": 194,
   "id": "68bbf39e",
   "metadata": {},
   "outputs": [
    {
     "data": {
      "text/html": [
       "<div>\n",
       "<style scoped>\n",
       "    .dataframe tbody tr th:only-of-type {\n",
       "        vertical-align: middle;\n",
       "    }\n",
       "\n",
       "    .dataframe tbody tr th {\n",
       "        vertical-align: top;\n",
       "    }\n",
       "\n",
       "    .dataframe thead th {\n",
       "        text-align: right;\n",
       "    }\n",
       "</style>\n",
       "<table border=\"1\" class=\"dataframe\">\n",
       "  <thead>\n",
       "    <tr style=\"text-align: right;\">\n",
       "      <th></th>\n",
       "      <th>yi</th>\n",
       "      <th>glm4</th>\n",
       "      <th>qwen</th>\n",
       "    </tr>\n",
       "  </thead>\n",
       "  <tbody>\n",
       "    <tr>\n",
       "      <th>relevance</th>\n",
       "      <td>0.946667</td>\n",
       "      <td>0.982222</td>\n",
       "      <td>0.986667</td>\n",
       "    </tr>\n",
       "    <tr>\n",
       "      <th>answer_length</th>\n",
       "      <td>1.000000</td>\n",
       "      <td>0.122991</td>\n",
       "      <td>0.217497</td>\n",
       "    </tr>\n",
       "    <tr>\n",
       "      <th>correctness</th>\n",
       "      <td>0.577778</td>\n",
       "      <td>0.377778</td>\n",
       "      <td>0.544444</td>\n",
       "    </tr>\n",
       "  </tbody>\n",
       "</table>\n",
       "</div>"
      ],
      "text/plain": [
       "                     yi      glm4      qwen\n",
       "relevance      0.946667  0.982222  0.986667\n",
       "answer_length  1.000000  0.122991  0.217497\n",
       "correctness    0.577778  0.377778  0.544444"
      ]
     },
     "execution_count": 194,
     "metadata": {},
     "output_type": "execute_result"
    }
   ],
   "source": [
    "results"
   ]
  },
  {
   "cell_type": "markdown",
   "id": "904c130a",
   "metadata": {},
   "source": [
    "### 3.2 Show results"
   ]
  },
  {
   "cell_type": "code",
   "execution_count": 200,
   "id": "de14f93c",
   "metadata": {},
   "outputs": [],
   "source": [
    "import numpy as np\n",
    "import matplotlib.pyplot as plt\n",
    "\n",
    "def draw_radar(df):\n",
    "    labels = df.index\n",
    "    angles = np.linspace(0, 2 * np.pi, len(labels), endpoint=False).tolist()\n",
    "    angles += angles[:1]\n",
    "\n",
    "    fig, ax = plt.subplots(figsize=(6, 6), subplot_kw=dict(polar=True))\n",
    "\n",
    "    for c in df.columns:\n",
    "        values = df[c].tolist()\n",
    "        values += values[:1]\n",
    "        ax.fill(angles, values, alpha=0.25, label=c)\n",
    "        ax.plot(angles, values, linewidth=2)\n",
    "\n",
    "    ax.set_yticks([i/5 for i in range(1, 5)])\n",
    "    ax.set_yticklabels([str(i/5) for i in range(1, 5)])\n",
    "    ax.set_xticks(angles[:-1])\n",
    "    ax.set_xticklabels(labels)\n",
    "    ax.legend(loc='upper right', bbox_to_anchor=(1.1, 1.1))\n",
    "\n",
    "    plt.show()"
   ]
  },
  {
   "cell_type": "code",
   "execution_count": 201,
   "id": "0342f472",
   "metadata": {},
   "outputs": [
    {
     "data": {
      "image/png": "[encoded data removed]",
      "text/plain": [
       "<Figure size 600x600 with 1 Axes>"
      ]
     },
     "metadata": {},
     "output_type": "display_data"
    }
   ],
   "source": [
    "draw_radar(results)"
   ]
  }
 ],
 "metadata": {
  "kernelspec": {
   "display_name": "Python 3 (ipykernel)",
   "language": "python",
   "name": "python3"
  },
  "language_info": {
   "codemirror_mode": {
    "name": "ipython",
    "version": 3
   },
   "file_extension": ".py",
   "mimetype": "text/x-python",
   "name": "python",
   "nbconvert_exporter": "python",
   "pygments_lexer": "ipython3",
   "version": "3.8.18"
  }
 },
 "nbformat": 4,
 "nbformat_minor": 5
}
